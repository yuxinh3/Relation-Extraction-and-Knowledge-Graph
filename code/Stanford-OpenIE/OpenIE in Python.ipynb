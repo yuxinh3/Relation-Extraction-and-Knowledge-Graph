{
 "cells": [
  {
   "cell_type": "code",
   "execution_count": 3,
   "metadata": {},
   "outputs": [],
   "source": [
    "#pip install stanford_openie"
   ]
  },
  {
   "cell_type": "code",
   "execution_count": 2,
   "metadata": {},
   "outputs": [],
   "source": [
    "from openie import StanfordOpenIE\n",
    "import numpy as np"
   ]
  },
  {
   "cell_type": "code",
   "execution_count": 7,
   "metadata": {},
   "outputs": [
    {
     "data": {
      "text/plain": [
       "100"
      ]
     },
     "execution_count": 7,
     "metadata": {},
     "output_type": "execute_result"
    }
   ],
   "source": [
    "#import all sentences into numpy array\n",
    "sent_df = np.array([]) \n",
    "with open('100sentences_CW.txt') as infile:\n",
    "    for line in infile:\n",
    "        sent_df = np.append(sent_df, line)\n",
    "sent_df.shape[0]"
   ]
  },
  {
   "cell_type": "code",
   "execution_count": 4,
   "metadata": {},
   "outputs": [
    {
     "name": "stdout",
     "output_type": "stream",
     "text": [
      "Starting server with command: java -Xmx8G -cp C:\\Users\\jasmi\\stanfordnlp_resources\\stanford-corenlp-full-2018-10-05/* edu.stanford.nlp.pipeline.StanfordCoreNLPServer -port 9000 -timeout 60000 -threads 5 -maxCharLength 100000 -quiet True -serverProperties corenlp_server-2560c54c0e674988.props -preload openie\n"
     ]
    }
   ],
   "source": [
    "#store triplet(s) from each sentence\n",
    "df = np.array([])\n",
    "\n",
    "with StanfordOpenIE() as client:\n",
    "    \n",
    "    for i, line in enumerate(sent_df[0:100]):\n",
    "        text = line\n",
    "        svo = ''\n",
    "        \n",
    "        for triple in client.annotate(text):\n",
    "            s = triple['subject']+','+triple['relation']+','+triple['object']+';'\n",
    "            svo += s\n",
    "            \n",
    "        df = np.append(df, svo)"
   ]
  },
  {
   "cell_type": "code",
   "execution_count": 9,
   "metadata": {},
   "outputs": [
    {
     "data": {
      "text/plain": [
       "array([['They,stick,good;They,look,good'],\n",
       "       [''],\n",
       "       ['They,are,super stylish;They,are,stylish;I,can share,them'],\n",
       "       ['These,make,my phone look so stylish'],\n",
       "       [\"It,would,would 've nice;It,get,it\"]], dtype='<U403')"
      ]
     },
     "execution_count": 9,
     "metadata": {},
     "output_type": "execute_result"
    }
   ],
   "source": [
    "#reformat => subject,relation,object;subject,relation,object...\n",
    "final_df = np.array([])\n",
    "df = df.reshape(sent_df.shape[0],1)\n",
    "\n",
    "for line in df:\n",
    "    if line[0] != '' and line[0][-1] == ';':\n",
    "        final_df = np.append(final_df, line[0][0:len(line[0])-1])\n",
    "    else:\n",
    "        final_df = np.append(final_df, line[0])\n",
    "        \n",
    "final_df = final_df.reshape(sent_df.shape[0],1)\n",
    "\n",
    "#display first 5 sentence's predicted triples\n",
    "final_df[:5]"
   ]
  },
  {
   "cell_type": "code",
   "execution_count": null,
   "metadata": {},
   "outputs": [],
   "source": [
    "#export txt file\n",
    "np.savetxt('predicted_triplets.txt', final_df, fmt='%s')"
   ]
  }
 ],
 "metadata": {
  "kernelspec": {
   "display_name": "Python 3",
   "language": "python",
   "name": "python3"
  },
  "language_info": {
   "codemirror_mode": {
    "name": "ipython",
    "version": 3
   },
   "file_extension": ".py",
   "mimetype": "text/x-python",
   "name": "python",
   "nbconvert_exporter": "python",
   "pygments_lexer": "ipython3",
   "version": "3.7.4"
  }
 },
 "nbformat": 4,
 "nbformat_minor": 2
}
